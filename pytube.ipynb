{
 "cells": [
  {
   "cell_type": "code",
   "execution_count": 34,
   "id": "ee3eb500",
   "metadata": {},
   "outputs": [
    {
     "name": "stdout",
     "output_type": "stream",
     "text": [
      "남들보다 삼겹살 2배로 먹는 법 알려드릴게요! 숨겨 놓고 몰래 먹는 파무침 3종!\n",
      "Error\n",
      "Error\n",
      "장담하건대 내일 또 먹고 싶을 거예요\n",
      "술만 먹으면 자꾸 이거 찾게 된다니까요\n",
      "Error\n",
      "정말 너무 간단해서 아무나 할 수 있다.\n",
      "명란대첩 │ 나에게는 아직 12개의 명란이 남아 있쥬~ 부럽쥬?\n",
      "Error\n",
      "Error\n",
      "참치김치찌개 끓이기 전에 '이거' 같이 안 해 먹으면 손해!\n",
      "300원으로 한 냄비 가~득 국 끓이기! 가성비 끝판왕 맑은 미역국\n",
      "맛집 사장님이 알려 주는 식당에서 사 먹는 차돌된장찌개 집에서 끓이는 법\n",
      "식당에서 먹는 콩나물국 맛의 비밀, 이건 몰랐쥬?\n",
      "Error\n",
      "○○만 넣으면 밖에서 사 먹는 김치찌개 맛 납니다! 궁금하쥬?\n",
      "Error\n"
     ]
    }
   ],
   "source": [
    "from time import sleep\n",
    "from pytube import YouTube, Playlist\n",
    "from pytube.exceptions import PytubeError\n",
    "\n",
    "url = \"https://www.youtube.com/playlist?list=PLoABXt5mipg6mIdGKBuJlv5tmQFAQ3OYr\"\n",
    "playlist = Playlist(url)\n",
    "\n",
    "pl = playlist[3:20]\n",
    "\n",
    "for p in pl:\n",
    "    try:\n",
    "        yt = YouTube(p)\n",
    "        print(yt.title)\n",
    "    except PytubeError:\n",
    "        print(\"Error\")"
   ]
  },
  {
   "cell_type": "code",
   "execution_count": null,
   "id": "f29d50d5",
   "metadata": {},
   "outputs": [],
   "source": []
  },
  {
   "cell_type": "code",
   "execution_count": null,
   "id": "93ac283c",
   "metadata": {},
   "outputs": [],
   "source": []
  },
  {
   "cell_type": "code",
   "execution_count": null,
   "id": "4000951f",
   "metadata": {},
   "outputs": [],
   "source": []
  }
 ],
 "metadata": {
  "kernelspec": {
   "display_name": "Python 3 (ipykernel)",
   "language": "python",
   "name": "python3"
  },
  "language_info": {
   "codemirror_mode": {
    "name": "ipython",
    "version": 3
   },
   "file_extension": ".py",
   "mimetype": "text/x-python",
   "name": "python",
   "nbconvert_exporter": "python",
   "pygments_lexer": "ipython3",
   "version": "3.11.2"
  }
 },
 "nbformat": 4,
 "nbformat_minor": 5
}
