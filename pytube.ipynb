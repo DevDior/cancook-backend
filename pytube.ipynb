{
 "cells": [
  {
   "cell_type": "code",
   "execution_count": 46,
   "id": "ee3eb500",
   "metadata": {},
   "outputs": [
    {
     "ename": "PytubeError",
     "evalue": "Exception while accessing title of https://youtube.com/watch?v=w9ML-v8OG1Y. Please file a bug report at https://github.com/pytube/pytube",
     "output_type": "error",
     "traceback": [
      "\u001b[0;31m---------------------------------------------------------------------------\u001b[0m",
      "\u001b[0;31mKeyError\u001b[0m                                  Traceback (most recent call last)",
      "File \u001b[0;32m~/Library/Caches/pypoetry/virtualenvs/self-dining-backend-b426HKBI-py3.11/lib/python3.11/site-packages/pytube/__main__.py:341\u001b[0m, in \u001b[0;36mYouTube.title\u001b[0;34m(self)\u001b[0m\n\u001b[1;32m    340\u001b[0m \u001b[39mtry\u001b[39;00m:\n\u001b[0;32m--> 341\u001b[0m     \u001b[39mself\u001b[39m\u001b[39m.\u001b[39m_title \u001b[39m=\u001b[39m \u001b[39mself\u001b[39;49m\u001b[39m.\u001b[39;49mvid_info[\u001b[39m'\u001b[39;49m\u001b[39mvideoDetails\u001b[39;49m\u001b[39m'\u001b[39;49m][\u001b[39m'\u001b[39m\u001b[39mtitle\u001b[39m\u001b[39m'\u001b[39m]\n\u001b[1;32m    342\u001b[0m \u001b[39mexcept\u001b[39;00m \u001b[39mKeyError\u001b[39;00m:\n\u001b[1;32m    343\u001b[0m     \u001b[39m# Check_availability will raise the correct exception in most cases\u001b[39;00m\n\u001b[1;32m    344\u001b[0m     \u001b[39m#  if it doesn't, ask for a report.\u001b[39;00m\n",
      "\u001b[0;31mKeyError\u001b[0m: 'videoDetails'",
      "\nDuring handling of the above exception, another exception occurred:\n",
      "\u001b[0;31mPytubeError\u001b[0m                               Traceback (most recent call last)",
      "Cell \u001b[0;32mIn[46], line 11\u001b[0m\n\u001b[1;32m      8\u001b[0m \u001b[39mfor\u001b[39;00m index, url \u001b[39min\u001b[39;00m \u001b[39menumerate\u001b[39m(video_urls[\u001b[39m3\u001b[39m:\u001b[39m20\u001b[39m]):\n\u001b[1;32m      9\u001b[0m     \u001b[39m# try:\u001b[39;00m\n\u001b[1;32m     10\u001b[0m     yt \u001b[39m=\u001b[39m YouTube(url)\n\u001b[0;32m---> 11\u001b[0m     \u001b[39mprint\u001b[39m(index ,yt\u001b[39m.\u001b[39;49mtitle)\n\u001b[1;32m     12\u001b[0m     \u001b[39m# except PytubeError:\u001b[39;00m\n\u001b[1;32m     13\u001b[0m         \u001b[39m# print(\"Error\")\u001b[39;00m\n",
      "File \u001b[0;32m~/Library/Caches/pypoetry/virtualenvs/self-dining-backend-b426HKBI-py3.11/lib/python3.11/site-packages/pytube/__main__.py:346\u001b[0m, in \u001b[0;36mYouTube.title\u001b[0;34m(self)\u001b[0m\n\u001b[1;32m    342\u001b[0m \u001b[39mexcept\u001b[39;00m \u001b[39mKeyError\u001b[39;00m:\n\u001b[1;32m    343\u001b[0m     \u001b[39m# Check_availability will raise the correct exception in most cases\u001b[39;00m\n\u001b[1;32m    344\u001b[0m     \u001b[39m#  if it doesn't, ask for a report.\u001b[39;00m\n\u001b[1;32m    345\u001b[0m     \u001b[39mself\u001b[39m\u001b[39m.\u001b[39mcheck_availability()\n\u001b[0;32m--> 346\u001b[0m     \u001b[39mraise\u001b[39;00m exceptions\u001b[39m.\u001b[39mPytubeError(\n\u001b[1;32m    347\u001b[0m         (\n\u001b[1;32m    348\u001b[0m             \u001b[39mf\u001b[39m\u001b[39m'\u001b[39m\u001b[39mException while accessing title of \u001b[39m\u001b[39m{\u001b[39;00m\u001b[39mself\u001b[39m\u001b[39m.\u001b[39mwatch_url\u001b[39m}\u001b[39;00m\u001b[39m. \u001b[39m\u001b[39m'\u001b[39m\n\u001b[1;32m    349\u001b[0m             \u001b[39m'\u001b[39m\u001b[39mPlease file a bug report at https://github.com/pytube/pytube\u001b[39m\u001b[39m'\u001b[39m\n\u001b[1;32m    350\u001b[0m         )\n\u001b[1;32m    351\u001b[0m     )\n\u001b[1;32m    353\u001b[0m \u001b[39mreturn\u001b[39;00m \u001b[39mself\u001b[39m\u001b[39m.\u001b[39m_title\n",
      "\u001b[0;31mPytubeError\u001b[0m: Exception while accessing title of https://youtube.com/watch?v=w9ML-v8OG1Y. Please file a bug report at https://github.com/pytube/pytube"
     ]
    }
   ],
   "source": [
    "from time import sleep\n",
    "from pytube import YouTube, Playlist\n",
    "from pytube.exceptions import PytubeError\n",
    "\n",
    "url = \"https://www.youtube.com/playlist?list=PLoABXt5mipg6mIdGKBuJlv5tmQFAQ3OYr\"\n",
    "video_urls = Playlist(url)\n",
    "\n",
    "for index, url in enumerate(video_urls[3:20]):\n",
    "    # try:\n",
    "    yt = YouTube(url)\n",
    "    print(index, yt.title)\n",
    "    # except PytubeError:\n",
    "        # print(\"Error\")"
   ]
  },
  {
   "cell_type": "code",
   "execution_count": null,
   "id": "f29d50d5",
   "metadata": {},
   "outputs": [],
   "source": []
  },
  {
   "cell_type": "code",
   "execution_count": null,
   "id": "93ac283c",
   "metadata": {},
   "outputs": [],
   "source": []
  },
  {
   "cell_type": "code",
   "execution_count": null,
   "id": "4000951f",
   "metadata": {},
   "outputs": [],
   "source": []
  }
 ],
 "metadata": {
  "kernelspec": {
   "display_name": "Python 3 (ipykernel)",
   "language": "python",
   "name": "python3"
  },
  "language_info": {
   "codemirror_mode": {
    "name": "ipython",
    "version": 3
   },
   "file_extension": ".py",
   "mimetype": "text/x-python",
   "name": "python",
   "nbconvert_exporter": "python",
   "pygments_lexer": "ipython3",
   "version": "3.11.2"
  }
 },
 "nbformat": 4,
 "nbformat_minor": 5
}
