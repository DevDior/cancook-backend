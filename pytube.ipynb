{
 "cells": [
  {
   "cell_type": "code",
   "execution_count": 197,
   "id": "ee3eb500",
   "metadata": {},
   "outputs": [
    {
     "name": "stdout",
     "output_type": "stream",
     "text": [
      "Playlist: 2.09808349609375e-05\n",
      "\n",
      "320\n",
      "\n",
      "ytpl: 6.2806549072265625\n",
      "어묵탕 지겨우셨죠? 오늘 저녁, 빨간 어묵으로 끝내드릴게요!\n",
      "현재 남은 ytpl_list len의 수: 9\n",
      "PytubeError\n",
      "현재 남은 ytpl_list len의 수: 9\n",
      "남들보다 삼겹살 2배로 먹는 법 알려드릴게요! 숨겨 놓고 몰래 먹는 파무침 3종!\n",
      "현재 남은 ytpl_list len의 수: 8\n",
      "PytubeError\n",
      "현재 남은 ytpl_list len의 수: 8\n",
      "장담하건대 내일 또 먹고 싶을 거예요\n",
      "현재 남은 ytpl_list len의 수: 7\n",
      "PytubeError\n",
      "현재 남은 ytpl_list len의 수: 7\n",
      "정말 너무 간단해서 아무나 할 수 있다.\n",
      "현재 남은 ytpl_list len의 수: 6\n"
     ]
    }
   ],
   "source": [
    "from time import time\n",
    "from pytube import YouTube, Playlist\n",
    "from pytube.exceptions import PytubeError\n",
    "\n",
    "\n",
    "url = \"https://www.youtube.com/playlist?list=PLoABXt5mipg6mIdGKBuJlv5tmQFAQ3OYr\"\n",
    "# url = \"https://www.youtube.com/watch?v=87zznFb0-us&list=PLoABXt5mipg6mIdGKBuJlv5tmQFAQ3OYr\"\n",
    "\n",
    "start_time = time()\n",
    "ytpl = Playlist(url)\n",
    "end_time = time()\n",
    "print('Playlist:', end_time - start_time)\n",
    "\n",
    "start_time = time()\n",
    "print()\n",
    "print(len(ytpl))\n",
    "print()\n",
    "end_time = time()\n",
    "print('ytpl:', end_time - start_time)\n",
    "\n",
    "ytpl_list = ytpl.video_urls._elements[:10]\n",
    "\n",
    "for video in ytpl_list:\n",
    "    try:\n",
    "        yt = YouTube(video)\n",
    "        print(yt.title)\n",
    "        if video in ytpl_list:\n",
    "            ytpl_list.remove(video)\n",
    "        else:\n",
    "            print('The value is not in the list')\n",
    "    except PytubeError:\n",
    "        print(\"PytubeError\")\n",
    "    except KeyError:\n",
    "        print(\"videoDetails\")\n",
    "    except ValueError:\n",
    "        print(\"ValueError\")\n",
    "    finally:\n",
    "        print(f\"현재 남은 ytpl_list len의 수: {len(ytpl_list)}\")\n"
   ]
  },
  {
   "cell_type": "code",
   "execution_count": null,
   "id": "f29d50d5",
   "metadata": {},
   "outputs": [],
   "source": []
  },
  {
   "cell_type": "code",
   "execution_count": null,
   "id": "93ac283c",
   "metadata": {},
   "outputs": [],
   "source": []
  },
  {
   "cell_type": "code",
   "execution_count": null,
   "id": "4000951f",
   "metadata": {},
   "outputs": [],
   "source": []
  }
 ],
 "metadata": {
  "kernelspec": {
   "display_name": "Python 3 (ipykernel)",
   "language": "python",
   "name": "python3"
  },
  "language_info": {
   "codemirror_mode": {
    "name": "ipython",
    "version": 3
   },
   "file_extension": ".py",
   "mimetype": "text/x-python",
   "name": "python",
   "nbconvert_exporter": "python",
   "pygments_lexer": "ipython3",
   "version": "3.11.2"
  }
 },
 "nbformat": 4,
 "nbformat_minor": 5
}
